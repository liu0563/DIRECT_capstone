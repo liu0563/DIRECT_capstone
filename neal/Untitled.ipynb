{
 "cells": [
  {
   "cell_type": "code",
   "execution_count": 1,
   "metadata": {},
   "outputs": [],
   "source": [
    "import numpy as np"
   ]
  },
  {
   "cell_type": "code",
   "execution_count": 2,
   "metadata": {},
   "outputs": [
    {
     "data": {
      "text/plain": [
       "array([[0.90924878, 0.20401211, 0.30117812],\n",
       "       [0.76071647, 0.93282169, 0.21223204],\n",
       "       [0.82646825, 0.08383448, 0.90718593],\n",
       "       ...,\n",
       "       [0.21792881, 0.90462788, 0.3596681 ],\n",
       "       [0.09004316, 0.29776702, 0.83054244],\n",
       "       [0.92913932, 0.57841112, 0.49478238]])"
      ]
     },
     "execution_count": 2,
     "metadata": {},
     "output_type": "execute_result"
    }
   ],
   "source": [
    "np.random.rand(1000,3)"
   ]
  },
  {
   "cell_type": "code",
   "execution_count": 29,
   "metadata": {},
   "outputs": [],
   "source": [
    "import pandas as pd\n",
    "# df = pd.read_csv('../app/data/wellspublic.csv')\n",
    "# df = pd.read_csv('../app/GCP/sample_prediction.csv', encoding=\"latin\")\n",
    "df = pd.read_csv(\"https://www.dropbox.com/s/3x1b7glfpuwn794/tweet_global_warming.csv?dl=1\", encoding=\"latin\")"
   ]
  },
  {
   "cell_type": "code",
   "execution_count": 30,
   "metadata": {},
   "outputs": [
    {
     "data": {
      "text/plain": [
       "Index(['tweet', 'existence', 'existence.confidence'], dtype='object')"
      ]
     },
     "execution_count": 30,
     "metadata": {},
     "output_type": "execute_result"
    }
   ],
   "source": [
    "df.columns"
   ]
  },
  {
   "cell_type": "code",
   "execution_count": 27,
   "metadata": {},
   "outputs": [
    {
     "name": "stdout",
     "output_type": "stream",
     "text": [
      "[-38.433859306, 33.966021, 44.451875, 49.08609, -37.292621, 40.375437, 60.1848543, 44.961937, 22.269493, 40.3120713, 36.540739, 32.53962, 38.898565, 35.44073, 37.708075, 39.631677, 32.586565, 38.633586, 40.3120713, 51.399367, 41.095834, 35.866334, 40.683935, 38.108678, 34.110516, 39.894185, 33.704538, -71.08359691, 42.200288, 40.683935, 24.396308, 37.562483, 30.355644, 30.523874, 40.477383, 38.801826, 27.708226, 38.846423, 46.128436, 38.293241, 51.684348, 59.8097794, 53.9280019, 20.734206, -28.2003171475, 53.178753, 51.4194247, 47.657768, 40.955019, 51.283861, 51.483718, 52.683871, 50.8224274, 41.548653, 27.74903, -34.1183470085] [144.593741856, -117.457382, -79.4757149, -123.304549, 174.161834, -96.6396669, 5.1602697, -76.353876, 88.094457, -3.8890049, -83.67529, -117.282538, -77.265228, -80.87267, -122.514926, -86.348441, -97.233811, -90.353953, -3.8890049, -2.659936, -71.907259, -79.0075886, -74.026675, -85.847503, -79.918523, -105.1472674, -118.668404, 42.36090957, -87.942895, -74.026675, -87.634643, -97.5349059, -85.605166, -88.301598, -79.76259, -77.119401, 69.328873, -77.220862, 5.955894, -81.7071748, -0.216758, 10.4914682, -1.147268, -87.322724, 153.186551712, -6.5468143, -0.1114755, 8.0579093, -74.1490956, 0.42871, -0.187894, -2.814317, 4.3789137, -73.659326, -15.7992943, 150.520928608]\n"
     ]
    }
   ],
   "source": [
    "# df['Unnamed: 0']\n",
    "# print(df['coordinates'])\n",
    "cords = list(df['coordinates'])\n",
    "lon = []\n",
    "lat = []\n",
    "for cord in cords:\n",
    "    l1 = float(cord.split(\",\")[0].split(\"[\")[1])\n",
    "    l2 = float(cord.split(\",\")[1].split(\"]\")[0])\n",
    "    lon.append(l1)\n",
    "    lat.append(l2)\n",
    "print(lat, lon)\n",
    "# print(cords)\n",
    "# print(cords)\n",
    "# print(cords[:,0])"
   ]
  },
  {
   "cell_type": "code",
   "execution_count": 19,
   "metadata": {},
   "outputs": [
    {
     "name": "stdout",
     "output_type": "stream",
     "text": [
      "(array([27, 23, 22, 23, 21, 22, 26, 32, 24, 14, 27, 28, 31, 25, 26, 28, 28,\n",
      "       22, 22, 29], dtype=int64), array([5.20961547e-04, 5.03348193e-02, 1.00148677e-01, 1.49962535e-01,\n",
      "       1.99776392e-01, 2.49590250e-01, 2.99404108e-01, 3.49217966e-01,\n",
      "       3.99031823e-01, 4.48845681e-01, 4.98659539e-01, 5.48473396e-01,\n",
      "       5.98287254e-01, 6.48101112e-01, 6.97914969e-01, 7.47728827e-01,\n",
      "       7.97542685e-01, 8.47356543e-01, 8.97170400e-01, 9.46984258e-01,\n",
      "       9.96798116e-01]))\n"
     ]
    }
   ],
   "source": [
    "a = np.random.rand(500)\n",
    "b = np.histogram(a,bins=20)\n",
    "print(b)"
   ]
  },
  {
   "cell_type": "code",
   "execution_count": null,
   "metadata": {},
   "outputs": [],
   "source": []
  }
 ],
 "metadata": {
  "kernelspec": {
   "display_name": "Python 3",
   "language": "python",
   "name": "python3"
  },
  "language_info": {
   "codemirror_mode": {
    "name": "ipython",
    "version": 3
   },
   "file_extension": ".py",
   "mimetype": "text/x-python",
   "name": "python",
   "nbconvert_exporter": "python",
   "pygments_lexer": "ipython3",
   "version": "3.6.4"
  }
 },
 "nbformat": 4,
 "nbformat_minor": 2
}
