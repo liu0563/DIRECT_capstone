{
 "cells": [
  {
   "cell_type": "code",
   "execution_count": 1,
   "metadata": {},
   "outputs": [
    {
     "name": "stderr",
     "output_type": "stream",
     "text": [
      "Using TensorFlow backend.\n"
     ]
    }
   ],
   "source": [
    "import numpy as np\n",
    "import pandas as pd \n",
    "import pickle\n",
    "import json\n",
    "import gensim\n",
    "import os\n",
    "import re\n",
    "\n",
    "from sklearn.model_selection import train_test_split\n",
    "from pandas.plotting import scatter_matrix\n",
    "\n",
    "from keras.preprocessing.text import Tokenizer\n",
    "from keras.preprocessing.sequence import pad_sequences\n",
    "from keras.preprocessing import sequence\n",
    "from keras.optimizers import RMSprop, SGD\n",
    "from keras.models import Sequential, Model\n",
    "from keras.layers.core import Dense, Dropout, Activation, Flatten, Reshape\n",
    "from keras.layers import Input, Bidirectional, LSTM, regularizers\n",
    "from keras.layers.embeddings import Embedding\n",
    "from keras.layers.convolutional import Conv1D, MaxPooling1D, MaxPooling2D, Conv2D\n",
    "from keras.layers.normalization import BatchNormalization\n",
    "from keras.callbacks import EarlyStopping\n",
    "\n",
    "\n",
    "%matplotlib inline\n",
    "\n",
    "import matplotlib\n",
    "import numpy as np\n",
    "import matplotlib.pyplot as plt"
   ]
  },
  {
   "cell_type": "code",
   "execution_count": 2,
   "metadata": {
    "collapsed": true
   },
   "outputs": [],
   "source": [
    "# Change these to match your file paths :)\n",
    "filename = '../../wyns/data/tweet_global_warming.csv' #64,706 reviews"
   ]
  },
  {
   "cell_type": "code",
   "execution_count": 3,
   "metadata": {
    "collapsed": true
   },
   "outputs": [],
   "source": [
    "model_path = \"GoogleNews-vectors-negative300.bin\"\n",
    "word_vector_model = gensim.models.KeyedVectors.load_word2vec_format(model_path, binary=True)"
   ]
  },
  {
   "cell_type": "code",
   "execution_count": 4,
   "metadata": {
    "collapsed": true
   },
   "outputs": [],
   "source": [
    "def normalize(txt, vocab=None, replace_char=' ',\n",
    "                max_length=300, pad_out=False,\n",
    "                to_lower=True, reverse = False,\n",
    "                truncate_left=False, encoding=None,\n",
    "                letters_only=False):\n",
    "  \n",
    "    txt = txt.split()\n",
    "    # Remove HTML\n",
    "    # This will keep characters and other symbols\n",
    "    txt = [re.sub(r'http:.*', '', r) for r in txt]\n",
    "    txt = [re.sub(r'https:.*', '', r) for r in txt]\n",
    "    \n",
    "    txt = ( \" \".join(txt))\n",
    "    # Remove non-emoticon punctuation and numbers\n",
    "    txt = re.sub(\"[.,!0-9]\", \" \", txt)\n",
    "    if letters_only: \n",
    "        txt = re.sub(\"[^a-zA-Z]\", \" \", txt)\n",
    "    txt = \" \".join(txt.split())\n",
    "    # store length for multiple comparisons\n",
    "    txt_len = len(txt)\n",
    "\n",
    "    if truncate_left:\n",
    "        txt = txt[-max_length:]\n",
    "    else:\n",
    "        txt = txt[:max_length]\n",
    "    # change case\n",
    "    if to_lower:\n",
    "        txt = txt.lower()\n",
    "    # Reverse order\n",
    "    if reverse:\n",
    "        txt = txt[::-1]\n",
    "    # replace chars\n",
    "    if vocab is not None:\n",
    "        txt = ''.join([c if c in vocab else replace_char for c in txt])\n",
    "    # re-encode text\n",
    "    if encoding is not None:\n",
    "        txt = txt.encode(encoding, errors=\"ignore\")\n",
    "    # pad out if needed\n",
    "    if pad_out and max_length>txt_len:\n",
    "        txt = txt + replace_char * (max_length - txt_len)\n",
    "    return txt"
   ]
  },
  {
   "cell_type": "code",
   "execution_count": 5,
   "metadata": {},
   "outputs": [
    {
     "name": "stdout",
     "output_type": "stream",
     "text": [
      "this is a sentence with things :) and a link\n"
     ]
    }
   ],
   "source": [
    "# What does this normalization function look like?\n",
    "clean_text = normalize(\"This is A sentence. with things! 123 :) and a link https://gitub.com\")\n",
    "print(clean_text)"
   ]
  },
  {
   "cell_type": "markdown",
   "metadata": {},
   "source": [
    "We want to balance the distrubtion of sentiment:"
   ]
  },
  {
   "cell_type": "code",
   "execution_count": 6,
   "metadata": {
    "collapsed": true
   },
   "outputs": [],
   "source": [
    "def balance(df):\n",
    "    print(\"Balancing the classes\")\n",
    "    type_counts = df['Sentiment'].value_counts()\n",
    "    min_count = min(type_counts.values)\n",
    "\n",
    "    balanced_df = None\n",
    "    for key in type_counts.keys():\n",
    "\n",
    "        df_sub = df[df['Sentiment']==key].sample(n=min_count, replace=False)\n",
    "        if balanced_df is not None:\n",
    "            balanced_df = balanced_df.append(df_sub)\n",
    "        else:\n",
    "            balanced_df = df_sub\n",
    "    return balanced_df"
   ]
  },
  {
   "cell_type": "code",
   "execution_count": 7,
   "metadata": {
    "collapsed": true
   },
   "outputs": [],
   "source": [
    "def review_to_sentiment(review):\n",
    "    # Review is coming in as Y/N/NaN\n",
    "    # this then cleans the summary and review and gives it a positive or negative value\n",
    "    norm_text = normalize(review[0])\n",
    "    if review[1] in ('Yes', 'Y'):\n",
    "        return ['positive', norm_text]\n",
    "    elif review[1] in ('No', 'N'):\n",
    "        return ['negative', norm_text]\n",
    "    else:\n",
    "        return ['other', norm_text]\n",
    "    \n",
    "data = []\n",
    "with open(filename, 'r', encoding='latin') as f: \n",
    "    for i,line in enumerate(f):\n",
    "        if i == 0: #skip header while i diagnose\n",
    "            continue\n",
    "        # as we read in, clean\n",
    "        line_data = line.split(\",\")\n",
    "        data.append(review_to_sentiment(line_data))\n",
    "        \n",
    "twitter = pd.DataFrame(data, columns=['Sentiment', 'clean_text'], dtype=str)"
   ]
  },
  {
   "cell_type": "code",
   "execution_count": 8,
   "metadata": {},
   "outputs": [
    {
     "data": {
      "text/html": [
       "<div>\n",
       "<style scoped>\n",
       "    .dataframe tbody tr th:only-of-type {\n",
       "        vertical-align: middle;\n",
       "    }\n",
       "\n",
       "    .dataframe tbody tr th {\n",
       "        vertical-align: top;\n",
       "    }\n",
       "\n",
       "    .dataframe thead th {\n",
       "        text-align: right;\n",
       "    }\n",
       "</style>\n",
       "<table border=\"1\" class=\"dataframe\">\n",
       "  <thead>\n",
       "    <tr style=\"text-align: right;\">\n",
       "      <th></th>\n",
       "      <th>Sentiment</th>\n",
       "      <th>clean_text</th>\n",
       "    </tr>\n",
       "  </thead>\n",
       "  <tbody>\n",
       "    <tr>\n",
       "      <th>1</th>\n",
       "      <td>positive</td>\n",
       "      <td>fighting poverty and global warming in africa ...</td>\n",
       "    </tr>\n",
       "    <tr>\n",
       "      <th>2</th>\n",
       "      <td>positive</td>\n",
       "      <td>carbon offsets: how a vatican forest failed to...</td>\n",
       "    </tr>\n",
       "    <tr>\n",
       "      <th>3</th>\n",
       "      <td>positive</td>\n",
       "      <td>carbon offsets: how a vatican forest failed to...</td>\n",
       "    </tr>\n",
       "    <tr>\n",
       "      <th>4</th>\n",
       "      <td>positive</td>\n",
       "      <td>uruguay: tools needed for those most vulnerabl...</td>\n",
       "    </tr>\n",
       "    <tr>\n",
       "      <th>5</th>\n",
       "      <td>positive</td>\n",
       "      <td>rt @sejorg: rt @jaymiheimbuch: ocean saltiness...</td>\n",
       "    </tr>\n",
       "  </tbody>\n",
       "</table>\n",
       "</div>"
      ],
      "text/plain": [
       "  Sentiment                                         clean_text\n",
       "1  positive  fighting poverty and global warming in africa ...\n",
       "2  positive  carbon offsets: how a vatican forest failed to...\n",
       "3  positive  carbon offsets: how a vatican forest failed to...\n",
       "4  positive  uruguay: tools needed for those most vulnerabl...\n",
       "5  positive  rt @sejorg: rt @jaymiheimbuch: ocean saltiness..."
      ]
     },
     "execution_count": 8,
     "metadata": {},
     "output_type": "execute_result"
    }
   ],
   "source": [
    "# For this demo lets just keep one and five stars the others are marked 'other\n",
    "twitter = twitter[twitter['Sentiment'].isin(['positive', 'negative'])]\n",
    "twitter.head()"
   ]
  },
  {
   "cell_type": "code",
   "execution_count": 9,
   "metadata": {},
   "outputs": [
    {
     "name": "stdout",
     "output_type": "stream",
     "text": [
      "Balancing the classes\n"
     ]
    },
    {
     "data": {
      "text/plain": [
       "1572"
      ]
     },
     "execution_count": 9,
     "metadata": {},
     "output_type": "execute_result"
    }
   ],
   "source": [
    "balanced_twitter = balance(twitter)\n",
    "len(balanced_twitter)"
   ]
  },
  {
   "cell_type": "code",
   "execution_count": 10,
   "metadata": {
    "collapsed": true
   },
   "outputs": [],
   "source": [
    "# Now go from the pandas into lists of text and labels\n",
    "\n",
    "text = balanced_twitter['clean_text'].values\n",
    "labels_0 = pd.get_dummies(balanced_twitter['Sentiment'])  # mapping of the labels with dummies (has headers)\n",
    "labels = labels_0.values # removes the headers"
   ]
  },
  {
   "cell_type": "code",
   "execution_count": 11,
   "metadata": {},
   "outputs": [
    {
     "data": {
      "text/plain": [
       "array([[0, 1],\n",
       "       [0, 1],\n",
       "       [0, 1],\n",
       "       [0, 1],\n",
       "       [0, 1],\n",
       "       [0, 1],\n",
       "       [0, 1],\n",
       "       [0, 1],\n",
       "       [0, 1],\n",
       "       [0, 1]], dtype=uint8)"
      ]
     },
     "execution_count": 11,
     "metadata": {},
     "output_type": "execute_result"
    }
   ],
   "source": [
    "labels[:10]"
   ]
  },
  {
   "cell_type": "code",
   "execution_count": 12,
   "metadata": {
    "collapsed": true
   },
   "outputs": [],
   "source": [
    "# Perform the Train/test split\n",
    "X_train_, X_test_, Y_train_, Y_test_ = train_test_split(text,labels, test_size = 0.2, random_state = 42)"
   ]
  },
  {
   "cell_type": "code",
   "execution_count": 13,
   "metadata": {},
   "outputs": [
    {
     "data": {
      "text/plain": [
       "array([[1, 0],\n",
       "       [0, 1],\n",
       "       [1, 0],\n",
       "       [1, 0],\n",
       "       [1, 0]], dtype=uint8)"
      ]
     },
     "execution_count": 13,
     "metadata": {},
     "output_type": "execute_result"
    }
   ],
   "source": [
    "# What does the data look like?\n",
    "# It is a one-hot encoding of the label, either positive or negative\n",
    "Y_train_[:5]"
   ]
  },
  {
   "cell_type": "code",
   "execution_count": 14,
   "metadata": {},
   "outputs": [
    {
     "data": {
      "text/plain": [
       "'dear global warming people: it is degrees in s ca on / heat on [contents of this message are copyrighted and property of author ]'"
      ]
     },
     "execution_count": 14,
     "metadata": {},
     "output_type": "execute_result"
    }
   ],
   "source": [
    "X_train_[42]"
   ]
  },
  {
   "cell_type": "code",
   "execution_count": 15,
   "metadata": {
    "collapsed": true
   },
   "outputs": [],
   "source": [
    "### Now for a simple bidirectional LSTM algorithm we set our feature sizes and train a tokenizer\n",
    "# First we Tokenize and get the data into a form that the model can read - this is BoW\n",
    "# In this cell we are also going to define some of our hyperparameters\n",
    "\n",
    "max_fatures = 2000\n",
    "max_len=300\n",
    "batch_size = 32\n",
    "embed_dim = 300\n",
    "lstm_out = 140\n",
    "\n",
    "dense_out=len(labels[0]) #length of features\n",
    "tokenizer = Tokenizer(num_words=max_fatures, split=' ')\n",
    "tokenizer.fit_on_texts(X_train_)\n",
    "X_train = tokenizer.texts_to_sequences(X_train_)\n",
    "X_train = pad_sequences(X_train, maxlen=max_len, padding='post')\n",
    "\n",
    "X_test = tokenizer.texts_to_sequences(X_test_)\n",
    "X_test = pad_sequences(X_test, maxlen=max_len, padding='post')\n",
    "\n",
    "word_index = tokenizer.word_index"
   ]
  },
  {
   "cell_type": "code",
   "execution_count": 16,
   "metadata": {},
   "outputs": [
    {
     "data": {
      "text/plain": [
       "array([1850,    1,    2,  133,   19,   10,  600,   12,  104,  798,   11,\n",
       "        280,   11, 1851,    7,   17,  329,   33, 1852,   13,  799,    7,\n",
       "       1125,    0,    0,    0,    0,    0,    0,    0,    0,    0,    0,\n",
       "          0,    0,    0,    0,    0,    0,    0,    0,    0,    0,    0,\n",
       "          0,    0,    0,    0,    0,    0,    0,    0,    0,    0,    0,\n",
       "          0,    0,    0,    0,    0,    0,    0,    0,    0,    0,    0,\n",
       "          0,    0,    0,    0,    0,    0,    0,    0,    0,    0,    0,\n",
       "          0,    0,    0,    0,    0,    0,    0,    0,    0,    0,    0,\n",
       "          0,    0,    0,    0,    0,    0,    0,    0,    0,    0,    0,\n",
       "          0,    0,    0,    0,    0,    0,    0,    0,    0,    0,    0,\n",
       "          0,    0,    0,    0,    0,    0,    0,    0,    0,    0,    0,\n",
       "          0,    0,    0,    0,    0,    0,    0,    0,    0,    0,    0,\n",
       "          0,    0,    0,    0,    0,    0,    0,    0,    0,    0,    0,\n",
       "          0,    0,    0,    0,    0,    0,    0,    0,    0,    0,    0,\n",
       "          0,    0,    0,    0,    0,    0,    0,    0,    0,    0,    0,\n",
       "          0,    0,    0,    0,    0,    0,    0,    0,    0,    0,    0,\n",
       "          0,    0,    0,    0,    0,    0,    0,    0,    0,    0,    0,\n",
       "          0,    0,    0,    0,    0,    0,    0,    0,    0,    0,    0,\n",
       "          0,    0,    0,    0,    0,    0,    0,    0,    0,    0,    0,\n",
       "          0,    0,    0,    0,    0,    0,    0,    0,    0,    0,    0,\n",
       "          0,    0,    0,    0,    0,    0,    0,    0,    0,    0,    0,\n",
       "          0,    0,    0,    0,    0,    0,    0,    0,    0,    0,    0,\n",
       "          0,    0,    0,    0,    0,    0,    0,    0,    0,    0,    0,\n",
       "          0,    0,    0,    0,    0,    0,    0,    0,    0,    0,    0,\n",
       "          0,    0,    0,    0,    0,    0,    0,    0,    0,    0,    0,\n",
       "          0,    0,    0,    0,    0,    0,    0,    0,    0,    0,    0,\n",
       "          0,    0,    0,    0,    0,    0,    0,    0,    0,    0,    0,\n",
       "          0,    0,    0], dtype=int32)"
      ]
     },
     "execution_count": 16,
     "metadata": {},
     "output_type": "execute_result"
    }
   ],
   "source": [
    "# Now what does our data look like?\n",
    "# Tokenizer creates a BOW encoding, which is then going to be fed into our Embedding matrix\n",
    "# This will be used by the model to build up a word embedding\n",
    "X_train[42]"
   ]
  },
  {
   "cell_type": "code",
   "execution_count": 17,
   "metadata": {},
   "outputs": [
    {
     "data": {
      "text/plain": [
       "array([-0.05419922,  0.01708984, -0.00527954,  0.33203125, -0.25      ,\n",
       "       -0.01397705, -0.15039062, -0.265625  ,  0.01647949,  0.3828125 ,\n",
       "       -0.03295898, -0.09716797, -0.16308594, -0.04443359,  0.00946045,\n",
       "        0.18457031,  0.03637695,  0.16601562,  0.36328125, -0.25585938,\n",
       "        0.375     ,  0.171875  ,  0.21386719, -0.19921875,  0.13085938,\n",
       "       -0.07275391, -0.02819824,  0.11621094,  0.15332031,  0.09082031,\n",
       "        0.06787109, -0.0300293 , -0.16894531, -0.20800781, -0.03710938,\n",
       "       -0.22753906,  0.26367188,  0.012146  ,  0.18359375,  0.31054688,\n",
       "       -0.10791016, -0.19140625,  0.21582031,  0.13183594, -0.03515625,\n",
       "        0.18554688, -0.30859375,  0.04785156, -0.10986328,  0.14355469,\n",
       "       -0.43554688, -0.0378418 ,  0.10839844,  0.140625  , -0.10595703,\n",
       "        0.26171875, -0.17089844,  0.39453125,  0.12597656, -0.27734375,\n",
       "       -0.28125   ,  0.14746094, -0.20996094,  0.02355957,  0.18457031,\n",
       "        0.00445557, -0.27929688, -0.03637695, -0.29296875,  0.19628906,\n",
       "        0.20703125,  0.2890625 , -0.20507812,  0.06787109, -0.43164062,\n",
       "       -0.10986328, -0.2578125 , -0.02331543,  0.11328125,  0.23144531,\n",
       "       -0.04418945,  0.10839844, -0.2890625 , -0.09521484, -0.10351562,\n",
       "       -0.0324707 ,  0.07763672, -0.13378906,  0.22949219,  0.06298828,\n",
       "        0.08349609,  0.02929688, -0.11474609,  0.00534058, -0.12988281,\n",
       "        0.02514648,  0.08789062,  0.24511719, -0.11474609, -0.296875  ,\n",
       "       -0.59375   , -0.29492188, -0.13378906,  0.27734375, -0.04174805,\n",
       "        0.11621094,  0.28320312,  0.00241089,  0.13867188, -0.00683594,\n",
       "       -0.30078125,  0.16210938,  0.01171875, -0.13867188,  0.48828125,\n",
       "        0.02880859,  0.02416992,  0.04736328,  0.05859375, -0.23828125,\n",
       "        0.02758789,  0.05981445, -0.03857422,  0.06933594,  0.14941406,\n",
       "       -0.10888672, -0.07324219,  0.08789062,  0.27148438,  0.06591797,\n",
       "       -0.37890625, -0.26171875, -0.13183594,  0.09570312, -0.3125    ,\n",
       "        0.10205078,  0.03063965,  0.23632812,  0.00582886,  0.27734375,\n",
       "        0.20507812, -0.17871094, -0.31445312, -0.01586914,  0.13964844,\n",
       "        0.13574219,  0.0390625 , -0.29296875,  0.234375  , -0.33984375,\n",
       "       -0.11816406,  0.10644531, -0.18457031, -0.02099609,  0.02563477,\n",
       "        0.25390625,  0.07275391,  0.13574219, -0.00138092, -0.2578125 ,\n",
       "       -0.2890625 ,  0.10107422,  0.19238281, -0.04882812,  0.27929688,\n",
       "       -0.3359375 , -0.07373047,  0.01879883, -0.10986328, -0.04614258,\n",
       "        0.15722656,  0.06689453, -0.03417969,  0.16308594,  0.08642578,\n",
       "        0.44726562,  0.02026367, -0.01977539,  0.07958984,  0.17773438,\n",
       "       -0.04370117, -0.00952148,  0.16503906,  0.17285156,  0.23144531,\n",
       "       -0.04272461,  0.02355957,  0.18359375, -0.41601562, -0.01745605,\n",
       "        0.16796875,  0.04736328,  0.14257812,  0.08496094,  0.33984375,\n",
       "        0.1484375 , -0.34375   , -0.14160156, -0.06835938, -0.14648438,\n",
       "       -0.02844238,  0.07421875, -0.07666016,  0.12695312,  0.05859375,\n",
       "       -0.07568359, -0.03344727,  0.23632812, -0.16308594,  0.16503906,\n",
       "        0.1484375 , -0.2421875 , -0.3515625 , -0.30664062,  0.00491333,\n",
       "        0.17675781,  0.46289062,  0.14257812, -0.25      , -0.25976562,\n",
       "        0.04370117,  0.34960938,  0.05957031,  0.07617188, -0.02868652,\n",
       "       -0.09667969, -0.01281738,  0.05859375, -0.22949219, -0.1953125 ,\n",
       "       -0.12207031,  0.20117188, -0.42382812,  0.06005859,  0.50390625,\n",
       "        0.20898438,  0.11230469, -0.06054688,  0.33203125,  0.07421875,\n",
       "       -0.05786133,  0.11083984, -0.06494141,  0.05639648,  0.01757812,\n",
       "        0.08398438,  0.13769531,  0.2578125 ,  0.16796875, -0.16894531,\n",
       "        0.01794434,  0.16015625,  0.26171875,  0.31640625, -0.24804688,\n",
       "        0.05371094, -0.0859375 ,  0.17089844, -0.39453125, -0.00156403,\n",
       "       -0.07324219, -0.04614258, -0.16210938, -0.15722656,  0.21289062,\n",
       "       -0.15820312,  0.04394531,  0.28515625,  0.01196289, -0.26953125,\n",
       "       -0.04370117,  0.37109375,  0.04663086, -0.19726562,  0.3046875 ,\n",
       "       -0.36523438, -0.23632812,  0.08056641, -0.04248047, -0.14648438,\n",
       "       -0.06225586, -0.0534668 , -0.05664062,  0.18945312,  0.37109375,\n",
       "       -0.22070312,  0.04638672,  0.02612305, -0.11474609,  0.265625  ,\n",
       "       -0.02453613,  0.11083984, -0.02514648, -0.12060547,  0.05297852,\n",
       "        0.07128906,  0.00063705, -0.36523438, -0.13769531, -0.12890625], dtype=float32)"
      ]
     },
     "execution_count": 17,
     "metadata": {},
     "output_type": "execute_result"
    }
   ],
   "source": [
    "# What does a word vector look like?\n",
    "# Ahhhh, like a bunch of numbers\n",
    "word_vector_model.word_vec('hello')"
   ]
  },
  {
   "cell_type": "code",
   "execution_count": 18,
   "metadata": {},
   "outputs": [
    {
     "name": "stdout",
     "output_type": "stream",
     "text": [
      "Prepare the embedding matrix\n"
     ]
    }
   ],
   "source": [
    "print('Prepare the embedding matrix')\n",
    "\n",
    "# prepare embedding matrix\n",
    "num_words = min(max_fatures, len(word_index))\n",
    "embedding_matrix = np.zeros((num_words, embed_dim))\n",
    "for word, i in word_index.items():\n",
    "    if i >= max_len:\n",
    "        continue\n",
    "    # words not found in embedding index will be all-zeros.\n",
    "    if word in word_vector_model.vocab:\n",
    "        embedding_matrix[i] = word_vector_model.word_vec(word)\n",
    "\n",
    "# load pre-trained word embeddings into an Embedding layer\n",
    "# note that we set trainable = True to fine tune the embeddings\n",
    "embedding_layer = Embedding(num_words,\n",
    "                            embed_dim,\n",
    "                            weights=[embedding_matrix],\n",
    "                            input_length=max_fatures,\n",
    "                            trainable=True)"
   ]
  },
  {
   "cell_type": "code",
   "execution_count": 19,
   "metadata": {},
   "outputs": [
    {
     "data": {
      "text/plain": [
       "array([-0.08056641, -0.04296875, -0.09716797,  0.10107422, -0.20507812,\n",
       "       -0.03833008,  0.04541016, -0.30078125,  0.10791016, -0.04248047,\n",
       "       -0.25976562, -0.09765625,  0.16796875, -0.1484375 , -0.10449219,\n",
       "       -0.05541992, -0.01519775,  0.12255859,  0.0534668 , -0.03881836,\n",
       "       -0.328125  , -0.006073  , -0.00241089, -0.16992188,  0.10400391,\n",
       "        0.00148773, -0.0625    , -0.09814453,  0.1640625 , -0.06738281,\n",
       "       -0.02612305, -0.16992188, -0.06933594, -0.08984375,  0.15136719,\n",
       "       -0.01721191, -0.01794434,  0.02038574,  0.14941406,  0.02099609,\n",
       "       -0.02453613, -0.01556396,  0.03588867,  0.15527344,  0.03515625,\n",
       "        0.1328125 , -0.06298828,  0.03613281,  0.09716797,  0.20117188,\n",
       "       -0.0291748 ,  0.03637695, -0.22363281,  0.03710938,  0.26953125,\n",
       "        0.16992188, -0.05639648, -0.16796875,  0.20996094, -0.08837891,\n",
       "       -0.10986328,  0.08007812,  0.08984375,  0.11621094,  0.08154297,\n",
       "       -0.04345703,  0.05053711,  0.01251221,  0.18554688, -0.00756836,\n",
       "       -0.28125   ,  0.12451172,  0.28515625,  0.15917969,  0.00102997,\n",
       "       -0.07275391,  0.07666016,  0.23925781, -0.02893066, -0.14453125,\n",
       "       -0.03588867, -0.06933594, -0.18457031,  0.04711914,  0.08349609,\n",
       "        0.08105469, -0.11425781,  0.11279297, -0.07568359,  0.20019531,\n",
       "        0.37109375, -0.31445312, -0.16113281,  0.01611328, -0.12304688,\n",
       "       -0.1796875 ,  0.00741577, -0.16113281,  0.38867188, -0.01635742,\n",
       "       -0.19921875,  0.19726562, -0.01306152,  0.17773438, -0.234375  ,\n",
       "       -0.02087402, -0.22753906, -0.00241089, -0.02148438, -0.02380371,\n",
       "       -0.06591797, -0.13183594, -0.27929688, -0.06103516,  0.06787109,\n",
       "        0.04956055, -0.22070312, -0.21875   ,  0.34765625,  0.15625   ,\n",
       "       -0.1953125 , -0.15625   , -0.09521484,  0.11572266, -0.15136719,\n",
       "        0.03833008,  0.04150391, -0.12988281, -0.01452637,  0.15136719,\n",
       "        0.06640625,  0.24902344, -0.12304688,  0.0480957 , -0.09619141,\n",
       "       -0.02905273,  0.17382812, -0.07226562, -0.08837891, -0.06030273,\n",
       "        0.2578125 , -0.12890625,  0.046875  ,  0.00952148,  0.11279297,\n",
       "       -0.10742188,  0.22753906,  0.1328125 ,  0.10693359, -0.11230469,\n",
       "        0.16796875, -0.15917969, -0.02770996,  0.03613281, -0.01287842,\n",
       "       -0.06396484, -0.09521484,  0.01330566,  0.1328125 , -0.18164062,\n",
       "       -0.07275391, -0.234375  , -0.00148773, -0.140625  ,  0.11572266,\n",
       "        0.04638672,  0.04321289, -0.23925781,  0.01202393,  0.14355469,\n",
       "       -0.00738525, -0.00366211,  0.2734375 , -0.15136719,  0.08251953,\n",
       "       -0.26367188,  0.01049805, -0.03930664, -0.24609375, -0.12792969,\n",
       "       -0.09472656,  0.00946045,  0.15039062, -0.25195312,  0.19726562,\n",
       "        0.04516602, -0.00144196, -0.02233887,  0.07373047,  0.29882812,\n",
       "       -0.20996094, -0.14648438, -0.21289062, -0.21582031, -0.25390625,\n",
       "        0.04858398, -0.0859375 , -0.19433594,  0.11914062, -0.40820312,\n",
       "       -0.11962891, -0.08789062,  0.09423828,  0.03063965,  0.06298828,\n",
       "        0.15722656,  0.203125  , -0.11181641, -0.19824219,  0.00267029,\n",
       "       -0.21289062, -0.04199219,  0.00126648,  0.3046875 ,  0.04199219,\n",
       "       -0.01080322, -0.04931641, -0.07177734, -0.07080078,  0.18652344,\n",
       "       -0.07373047,  0.02392578, -0.00265503,  0.01940918, -0.16894531,\n",
       "       -0.02832031,  0.02832031, -0.25585938,  0.11083984, -0.00549316,\n",
       "       -0.22949219,  0.00300598,  0.28710938, -0.22558594, -0.10058594,\n",
       "        0.03295898, -0.07958984,  0.11523438, -0.06738281, -0.10839844,\n",
       "        0.08056641,  0.03564453, -0.14941406,  0.07128906, -0.0456543 ,\n",
       "       -0.04296875,  0.04760742, -0.18457031, -0.05249023, -0.27148438,\n",
       "        0.04467773, -0.03015137, -0.14941406,  0.01062012,  0.02453613,\n",
       "       -0.24707031,  0.2109375 , -0.14648438,  0.02038574, -0.11865234,\n",
       "       -0.08544922, -0.20117188,  0.01348877, -0.02392578,  0.13769531,\n",
       "        0.18457031, -0.19726562, -0.04223633, -0.09179688,  0.11230469,\n",
       "       -0.16601562,  0.04223633,  0.0279541 , -0.23925781,  0.01177979,\n",
       "       -0.00123596, -0.13671875,  0.18847656,  0.11621094,  0.19628906,\n",
       "       -0.11865234, -0.11230469, -0.01184082, -0.10888672,  0.12353516,\n",
       "        0.3203125 , -0.18457031,  0.0378418 ,  0.12792969, -0.00396729,\n",
       "        0.0402832 ,  0.05786133, -0.0534668 ,  0.15234375, -0.03637695,\n",
       "        0.01647949,  0.05175781,  0.36914062,  0.14746094, -0.12792969])"
      ]
     },
     "execution_count": 19,
     "metadata": {},
     "output_type": "execute_result"
    }
   ],
   "source": [
    "embedding_matrix[1]"
   ]
  },
  {
   "cell_type": "code",
   "execution_count": 20,
   "metadata": {},
   "outputs": [
    {
     "name": "stdout",
     "output_type": "stream",
     "text": [
      "_________________________________________________________________\n",
      "Layer (type)                 Output Shape              Param #   \n",
      "=================================================================\n",
      "input_1 (InputLayer)         (None, 300)               0         \n",
      "_________________________________________________________________\n",
      "embedding_1 (Embedding)      (None, 2000, 300)         600000    \n",
      "_________________________________________________________________\n",
      "bidirectional_1 (Bidirection (None, 280)               493920    \n",
      "_________________________________________________________________\n",
      "dense_1 (Dense)              (None, 2)                 562       \n",
      "=================================================================\n",
      "Total params: 1,094,482\n",
      "Trainable params: 1,094,482\n",
      "Non-trainable params: 0\n",
      "_________________________________________________________________\n",
      "None\n"
     ]
    }
   ],
   "source": [
    "# Define the model using the pre-trained embedding\n",
    "sequence_input = Input(shape=(max_len,), dtype='int32')\n",
    "embedded_sequences = embedding_layer(sequence_input)\n",
    "x = Bidirectional(LSTM(lstm_out, recurrent_dropout=0.5, activation='tanh'))(embedded_sequences)\n",
    "preds = Dense(dense_out, activation='softmax')(x)\n",
    "\n",
    "model = Model(sequence_input, preds)\n",
    "model.compile(loss='categorical_crossentropy',\n",
    "              optimizer='adam',\n",
    "              metrics=['acc'])\n",
    "print(model.summary())"
   ]
  },
  {
   "cell_type": "code",
   "execution_count": 21,
   "metadata": {},
   "outputs": [
    {
     "name": "stdout",
     "output_type": "stream",
     "text": [
      "Train on 1257 samples, validate on 315 samples\n",
      "Epoch 1/20\n",
      " - 19s - loss: 0.6444 - acc: 0.6301 - val_loss: 0.5711 - val_acc: 0.7079\n",
      "Epoch 2/20\n",
      " - 17s - loss: 0.4592 - acc: 0.7963 - val_loss: 0.4180 - val_acc: 0.8476\n",
      "Epoch 3/20\n",
      " - 17s - loss: 0.3104 - acc: 0.8703 - val_loss: 0.4393 - val_acc: 0.7937\n",
      "Epoch 4/20\n",
      " - 17s - loss: 0.2068 - acc: 0.9260 - val_loss: 0.4092 - val_acc: 0.8159\n",
      "Epoch 5/20\n",
      " - 19s - loss: 0.1470 - acc: 0.9467 - val_loss: 0.5448 - val_acc: 0.8000\n",
      "Epoch 6/20\n",
      " - 20s - loss: 0.1073 - acc: 0.9578 - val_loss: 0.5026 - val_acc: 0.8032\n",
      "Epoch 7/20\n",
      " - 18s - loss: 0.0914 - acc: 0.9690 - val_loss: 0.6580 - val_acc: 0.8063\n",
      "Epoch 8/20\n",
      " - 18s - loss: 0.0668 - acc: 0.9769 - val_loss: 0.6822 - val_acc: 0.8159\n",
      "Epoch 9/20\n",
      " - 18s - loss: 0.0600 - acc: 0.9793 - val_loss: 0.6853 - val_acc: 0.8095\n",
      "Epoch 10/20\n",
      " - 18s - loss: 0.0585 - acc: 0.9745 - val_loss: 0.7303 - val_acc: 0.8063\n",
      "Epoch 11/20\n",
      " - 19s - loss: 0.0534 - acc: 0.9817 - val_loss: 0.7025 - val_acc: 0.7968\n",
      "Epoch 12/20\n",
      " - 19s - loss: 0.0452 - acc: 0.9801 - val_loss: 0.8359 - val_acc: 0.8000\n",
      "Epoch 13/20\n",
      " - 18s - loss: 0.0441 - acc: 0.9801 - val_loss: 0.8490 - val_acc: 0.8032\n",
      "Epoch 14/20\n",
      " - 18s - loss: 0.0377 - acc: 0.9833 - val_loss: 0.8982 - val_acc: 0.8127\n",
      "Epoch 15/20\n",
      " - 18s - loss: 0.0319 - acc: 0.9881 - val_loss: 1.1313 - val_acc: 0.7810\n",
      "Epoch 16/20\n",
      " - 18s - loss: 0.0501 - acc: 0.9777 - val_loss: 0.8279 - val_acc: 0.7873\n",
      "Epoch 17/20\n",
      " - 18s - loss: 0.0400 - acc: 0.9833 - val_loss: 0.8264 - val_acc: 0.7968\n",
      "Epoch 18/20\n",
      " - 18s - loss: 0.0298 - acc: 0.9865 - val_loss: 0.9463 - val_acc: 0.8000\n",
      "Epoch 19/20\n",
      " - 18s - loss: 0.0265 - acc: 0.9873 - val_loss: 0.8794 - val_acc: 0.8063\n",
      "Epoch 20/20\n",
      " - 18s - loss: 0.0328 - acc: 0.9849 - val_loss: 0.9290 - val_acc: 0.8127\n"
     ]
    }
   ],
   "source": [
    "model_hist_embedding = model.fit(X_train, Y_train_, epochs = 20, batch_size=batch_size, verbose = 2,\n",
    "                        validation_data=(X_test,Y_test_))"
   ]
  },
  {
   "cell_type": "code",
   "execution_count": 22,
   "metadata": {},
   "outputs": [
    {
     "data": {
      "image/png": "[encoded data removed]",
      "text/plain": [
       "<matplotlib.figure.Figure at 0x7ff37f69f128>"
      ]
     },
     "metadata": {},
     "output_type": "display_data"
    }
   ],
   "source": [
    "# Training Accuracy\n",
    "x = np.arange(20)+1\n",
    "\n",
    "plt.plot(x, model_hist_embedding.history['acc'])\n",
    "plt.plot(x, model_hist_embedding.history['val_acc'])\n",
    "plt.legend(['Training', 'Testing'], loc='lower right')\n",
    "plt.ylabel(\"Accuracy\")\n",
    "axes = plt.gca()\n",
    "axes.set_ylim([0.45,1.01])\n",
    "plt.xlabel(\"Epoch\")\n",
    "plt.title(\"LSTM Accuracy\")\n",
    "plt.show()"
   ]
  },
  {
   "cell_type": "code",
   "execution_count": 23,
   "metadata": {
    "collapsed": true
   },
   "outputs": [],
   "source": [
    "#model_hist_embedding.model.save(\"../../wyns/data/climate_sentiment_m2.h5\")"
   ]
  }
 ],
 "metadata": {
  "kernelspec": {
   "display_name": "Python 3",
   "language": "python",
   "name": "python3"
  },
  "language_info": {
   "codemirror_mode": {
    "name": "ipython",
    "version": 3
   },
   "file_extension": ".py",
   "mimetype": "text/x-python",
   "name": "python",
   "nbconvert_exporter": "python",
   "pygments_lexer": "ipython3",
   "version": "3.6.1"
  }
 },
 "nbformat": 4,
 "nbformat_minor": 2
}
