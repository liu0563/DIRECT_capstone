{
 "cells": [
  {
   "cell_type": "code",
   "execution_count": 7,
   "metadata": {},
   "outputs": [
    {
     "name": "stderr",
     "output_type": "stream",
     "text": [
      "C:\\Users\\Neal\\Anaconda3\\envs\\class\\lib\\site-packages\\h5py\\__init__.py:36: FutureWarning: Conversion of the second argument of issubdtype from `float` to `np.floating` is deprecated. In future, it will be treated as `np.float64 == np.dtype(float).type`.\n",
      "  from ._conv import register_converters as _register_converters\n"
     ]
    }
   ],
   "source": [
    "from sklearn.neural_network import MLPRegressor\n",
    "import numpy as np\n",
    "import pandas as pd\n",
    "import h5py "
   ]
  },
  {
   "cell_type": "code",
   "execution_count": 22,
   "metadata": {},
   "outputs": [
    {
     "name": "stdout",
     "output_type": "stream",
     "text": [
      "Empty DataFrame\n",
      "Columns: [tweet, existence, existence.confidence]\n",
      "Index: []\n"
     ]
    }
   ],
   "source": [
    "# step 1 - clean the data and put it in an h5 file\n",
    "data = pd.read_csv('../../core/data/tweet_global_warming.csv',encoding = \"ISO-8859-1\")\n",
    "# one_hot = pd.get_dummies(data['existence'])\n",
    "# print(data[data['existence']=='NaN'])\n",
    "# one_hot_array = np.array(one_hot)\n",
    "# print(one_hot_array) # N No Y Yes\n",
    "# print(data)\n",
    "# data['one_hot_yes'] = data['existence'] == 'Yes'\n",
    "# print(data)\n",
    "# with h5py.File('twitter_data.hdf5','a') as f:\n",
    "#     f.create_dataset()"
   ]
  },
  {
   "cell_type": "code",
   "execution_count": 27,
   "metadata": {},
   "outputs": [
    {
     "name": "stdout",
     "output_type": "stream",
     "text": [
      "['Yes', nan, 'No', 'Y', 'N']\n"
     ]
    }
   ],
   "source": [
    "dt = np.array(data['existence'])\n",
    "unique = []\n",
    "for i in dt:\n",
    "    if i not in unique:\n",
    "        unique.append(i)\n",
    "print(unique)"
   ]
  },
  {
   "cell_type": "code",
   "execution_count": 33,
   "metadata": {},
   "outputs": [
    {
     "name": "stdout",
     "output_type": "stream",
     "text": [
      "[[1. 0. 0.]\n",
      " [1. 0. 0.]\n",
      " [1. 0. 0.]\n",
      " ...\n",
      " [0. 1. 0.]\n",
      " [0. 1. 0.]\n",
      " [0. 1. 0.]]\n",
      "0.5108374384236454 0.18292282430213463 0.30623973727422005\n"
     ]
    }
   ],
   "source": [
    "# one-hot encode stuff:\n",
    "ohe = np.zeros((dt.shape[0],3))\n",
    "for i, j in enumerate(dt):\n",
    "    if j == 'Yes' or j == 'Y':\n",
    "        ohe[i,0] = 1\n",
    "    elif j == 'No' or j=='N':\n",
    "        ohe[i,1] = 1\n",
    "    else:\n",
    "        ohe[i,2] = 1\n",
    "# yes, no, NA\n",
    "print(ohe)\n",
    "print(ohe[:,0].mean(), ohe[:,1].mean(), ohe[:,2].mean())"
   ]
  },
  {
   "cell_type": "code",
   "execution_count": 38,
   "metadata": {},
   "outputs": [
    {
     "name": "stdout",
     "output_type": "stream",
     "text": [
      "(4872,) (1218,) (4872, 3) (1218, 3)\n"
     ]
    }
   ],
   "source": [
    "# split into test-train pairs\n",
    "x = np.array(data['tweet'])\n",
    "y = ohe\n",
    "from sklearn.model_selection import KFold, train_test_split\n",
    "xx, xt, yy, yt = train_test_split(x, y, test_size=.2)\n",
    "print(xx.shape, xt.shape, yy.shape, yt.shape)"
   ]
  },
  {
   "cell_type": "code",
   "execution_count": 42,
   "metadata": {},
   "outputs": [],
   "source": [
    "kf = KFold(n_splits=5, shuffle=True)\n",
    "a = []\n",
    "b = []\n",
    "for train_index, test_index in kf.split(xx):\n",
    "    a.append([xx[train_index],xx[test_index]])\n",
    "    b.append([yy[train_index], yy[test_index]])\n",
    "# print(a)"
   ]
  },
  {
   "cell_type": "code",
   "execution_count": 51,
   "metadata": {},
   "outputs": [
    {
     "name": "stdout",
     "output_type": "stream",
     "text": [
      "5\n",
      "<class 'str'>\n"
     ]
    }
   ],
   "source": [
    "print(len(a))\n",
    "print(type(a[0][0][0]))"
   ]
  },
  {
   "cell_type": "code",
   "execution_count": 63,
   "metadata": {},
   "outputs": [],
   "source": [
    "with h5py.File(\"twitter_data.hdf5\", \"w\") as f:\n",
    "    for i in range(len(a)):\n",
    "        dset = f.create_dataset(\"x%i\" % i, data=[aa.encode('utf8') for aa in a[i][0]])\n",
    "        dset = f.create_dataset(\"xt%i\" % i, data=[aa.encode('utf8') for aa in a[i][1]])\n",
    "        dset = f.create_dataset(\"y%i\" % i, data=b[i][0])\n",
    "        dset = f.create_dataset(\"yt%i\" % i, data=b[i][1])\n",
    "    dset = f.create_dataset(\"ytest\", data=yt)\n",
    "    dset = f.create_dataset(\"xtest\", data=[aa.encode('utf8') for aa in xt])\n",
    "\n",
    "    "
   ]
  },
  {
   "cell_type": "code",
   "execution_count": 61,
   "metadata": {},
   "outputs": [],
   "source": [
    "f = h5py.File(\"mytestfile.hdf5\", \"r\")\n",
    "f.close()"
   ]
  },
  {
   "cell_type": "code",
   "execution_count": 59,
   "metadata": {},
   "outputs": [
    {
     "name": "stdout",
     "output_type": "stream",
     "text": [
      "x0\n",
      "x1\n",
      "x2\n",
      "x3\n",
      "x4\n",
      "xt\n",
      "xt0\n",
      "xt1\n",
      "xt2\n",
      "xt3\n",
      "xt4\n",
      "y0\n",
      "y1\n",
      "y2\n",
      "y3\n",
      "y4\n",
      "yt\n",
      "yt0\n",
      "yt1\n",
      "yt2\n",
      "yt3\n",
      "yt4\n"
     ]
    }
   ],
   "source": [
    "for i in f.keys():\n",
    "    print(i)"
   ]
  },
  {
   "cell_type": "code",
   "execution_count": null,
   "metadata": {},
   "outputs": [],
   "source": []
  }
 ],
 "metadata": {
  "kernelspec": {
   "display_name": "Python 3",
   "language": "python",
   "name": "python3"
  },
  "language_info": {
   "codemirror_mode": {
    "name": "ipython",
    "version": 3
   },
   "file_extension": ".py",
   "mimetype": "text/x-python",
   "name": "python",
   "nbconvert_exporter": "python",
   "pygments_lexer": "ipython3",
   "version": "3.6.4"
  }
 },
 "nbformat": 4,
 "nbformat_minor": 2
}
