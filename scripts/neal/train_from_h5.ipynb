{
 "cells": [
  {
   "cell_type": "code",
   "execution_count": 5,
   "metadata": {},
   "outputs": [
    {
     "name": "stdout",
     "output_type": "stream",
     "text": [
      "keras 2.1.5\n",
      "tensorflow 1.2.1\n"
     ]
    }
   ],
   "source": [
    "import numpy as np\n",
    "import pandas as pd\n",
    "import h5py \n",
    "import keras\n",
    "from keras.models import Sequential\n",
    "from keras.layers import Dense, Dropout, AlphaDropout\n",
    "from keras.preprocessing.text import Tokenizer\n",
    "import tensorflow as tf\n",
    "print('keras', keras.__version__)\n",
    "print('tensorflow', tf.__version__)"
   ]
  },
  {
   "cell_type": "code",
   "execution_count": 33,
   "metadata": {},
   "outputs": [
    {
     "name": "stdout",
     "output_type": "stream",
     "text": [
      "5\n"
     ]
    }
   ],
   "source": [
    "# read in the data:\n",
    "x_sets = []\n",
    "y_sets = []\n",
    "xt_sets = []\n",
    "yt_sets = []\n",
    "with h5py.File('twitter_data.hdf5', 'r') as f:\n",
    "    for i in range(5):\n",
    "        x_sets.append(f['x%i' % i][:])\n",
    "        xt_sets.append(f['xt%i' % i][:])\n",
    "        y_sets.append(f['y%i' % i][:])\n",
    "        yt_sets.append(f['yt%i' % i][:])\n",
    "    xtest = f['xtest'][:]\n",
    "    ytest = f['ytest'][:]\n",
    "print(len(x_sets))\n",
    "for i in range(len(x_sets)):\n",
    "    x_sets[i] = [x.decode('utf-8') for x in x_sets[i]]\n",
    "    xt_sets[i] = [x.decode('utf-8') for x in xt_sets[i]]\n",
    "xtest = [x.decode('utf-8') for x in xtest]"
   ]
  },
  {
   "cell_type": "code",
   "execution_count": 54,
   "metadata": {},
   "outputs": [
    {
     "name": "stdout",
     "output_type": "stream",
     "text": [
      "19488\n",
      "The current climate change legislation threatens to do more harm than good. http://bit.ly/cQOM4B\n"
     ]
    }
   ],
   "source": [
    "# print(x_sets[0])\n",
    "all_text = flat_list = [item for sublist in x_sets for item in sublist]\n",
    "print(len(all_text))\n",
    "# print(all_text)\n",
    "print(all_text[0])"
   ]
  },
  {
   "cell_type": "code",
   "execution_count": 40,
   "metadata": {},
   "outputs": [
    {
     "name": "stderr",
     "output_type": "stream",
     "text": [
      "C:\\Users\\Neal\\Anaconda3\\envs\\class\\lib\\site-packages\\keras\\preprocessing\\text.py:157: UserWarning: The `nb_words` argument in `Tokenizer` has been renamed `num_words`.\n",
      "  warnings.warn('The `nb_words` argument in `Tokenizer` '\n"
     ]
    }
   ],
   "source": [
    "# create the network:\n",
    "tokenizer = Tokenizer(nb_words = 500)\n",
    "tokenizer.fit_on_texts(all_text)"
   ]
  },
  {
   "cell_type": "code",
   "execution_count": 53,
   "metadata": {},
   "outputs": [
    {
     "name": "stdout",
     "output_type": "stream",
     "text": [
      "11751\n"
     ]
    }
   ],
   "source": [
    "# print(tokenizer.texts_to_sequences(xt_sets[0]))\n",
    "print(len(tokenizer.word_index))\n",
    "# totrain = [str(x).encode('utf-8') for x in xt_sets[0]]\n",
    "# print(totrain)"
   ]
  },
  {
   "cell_type": "code",
   "execution_count": 52,
   "metadata": {},
   "outputs": [
    {
     "name": "stderr",
     "output_type": "stream",
     "text": [
      "C:\\Users\\Neal\\Anaconda3\\envs\\class\\lib\\site-packages\\keras\\models.py:942: UserWarning: The `nb_epoch` argument in `fit` has been renamed `epochs`.\n",
      "  warnings.warn('The `nb_epoch` argument in `fit` '\n"
     ]
    },
    {
     "name": "stdout",
     "output_type": "stream",
     "text": [
      "Epoch 1/100\n",
      "3897/3897 [==============================] - 2s 414us/step - loss: 1.0790 - acc: 0.4049\n",
      "Epoch 2/100\n",
      "3897/3897 [==============================] - 0s 38us/step - loss: 0.9915 - acc: 0.5237\n",
      "Epoch 3/100\n",
      "3897/3897 [==============================] - 0s 32us/step - loss: 0.9379 - acc: 0.5278\n",
      "Epoch 4/100\n",
      "3897/3897 [==============================] - 0s 31us/step - loss: 0.8976 - acc: 0.5502\n",
      "Epoch 5/100\n",
      "3897/3897 [==============================] - 0s 34us/step - loss: 0.8630 - acc: 0.5771\n",
      "Epoch 6/100\n",
      "3897/3897 [==============================] - 0s 35us/step - loss: 0.8337 - acc: 0.5984\n",
      "Epoch 7/100\n",
      "3897/3897 [==============================] - 0s 30us/step - loss: 0.8084 - acc: 0.6125\n",
      "Epoch 8/100\n",
      "3897/3897 [==============================] - 0s 27us/step - loss: 0.7852 - acc: 0.6292\n",
      "Epoch 9/100\n",
      "3897/3897 [==============================] - 0s 33us/step - loss: 0.7648 - acc: 0.6551\n",
      "Epoch 10/100\n",
      "3897/3897 [==============================] - 0s 32us/step - loss: 0.7451 - acc: 0.6620\n",
      "Epoch 11/100\n",
      "3897/3897 [==============================] - 0s 27us/step - loss: 0.7277 - acc: 0.6785\n",
      "Epoch 12/100\n",
      "3897/3897 [==============================] - 0s 28us/step - loss: 0.7116 - acc: 0.6833\n",
      "Epoch 13/100\n",
      "3897/3897 [==============================] - 0s 34us/step - loss: 0.6976 - acc: 0.6923\n",
      "Epoch 14/100\n",
      "3897/3897 [==============================] - 0s 36us/step - loss: 0.6850 - acc: 0.6939\n",
      "Epoch 15/100\n",
      "3897/3897 [==============================] - 0s 33us/step - loss: 0.6741 - acc: 0.6962\n",
      "Epoch 16/100\n",
      "3897/3897 [==============================] - 0s 33us/step - loss: 0.6656 - acc: 0.7039\n",
      "Epoch 17/100\n",
      "3897/3897 [==============================] - 0s 35us/step - loss: 0.6564 - acc: 0.7077\n",
      "Epoch 18/100\n",
      "3897/3897 [==============================] - 0s 34us/step - loss: 0.6487 - acc: 0.7093\n",
      "Epoch 19/100\n",
      "3897/3897 [==============================] - 0s 28us/step - loss: 0.6431 - acc: 0.7149\n",
      "Epoch 20/100\n",
      "3897/3897 [==============================] - 0s 33us/step - loss: 0.6376 - acc: 0.7141\n",
      "Epoch 21/100\n",
      "3897/3897 [==============================] - 0s 34us/step - loss: 0.6316 - acc: 0.7175\n",
      "Epoch 22/100\n",
      "3897/3897 [==============================] - 0s 35us/step - loss: 0.6302 - acc: 0.7216\n",
      "Epoch 23/100\n",
      "3897/3897 [==============================] - 0s 43us/step - loss: 0.6230 - acc: 0.7231\n",
      "Epoch 24/100\n",
      "3897/3897 [==============================] - 0s 37us/step - loss: 0.6201 - acc: 0.7270\n",
      "Epoch 25/100\n",
      "3897/3897 [==============================] - 0s 44us/step - loss: 0.6174 - acc: 0.7224\n",
      "Epoch 26/100\n",
      "3897/3897 [==============================] - 0s 37us/step - loss: 0.6144 - acc: 0.7290\n",
      "Epoch 27/100\n",
      "3897/3897 [==============================] - 0s 54us/step - loss: 0.6106 - acc: 0.7306\n",
      "Epoch 28/100\n",
      "3897/3897 [==============================] - 0s 36us/step - loss: 0.6088 - acc: 0.7298\n",
      "Epoch 29/100\n",
      "3897/3897 [==============================] - 0s 36us/step - loss: 0.6074 - acc: 0.7349\n",
      "Epoch 30/100\n",
      "3897/3897 [==============================] - 0s 65us/step - loss: 0.6034 - acc: 0.7316\n",
      "Epoch 31/100\n",
      "3897/3897 [==============================] - 0s 60us/step - loss: 0.6018 - acc: 0.7395\n",
      "Epoch 32/100\n",
      "3897/3897 [==============================] - 0s 42us/step - loss: 0.6030 - acc: 0.7342\n",
      "Epoch 33/100\n",
      "3897/3897 [==============================] - 0s 52us/step - loss: 0.5974 - acc: 0.7372\n",
      "Epoch 34/100\n",
      "3897/3897 [==============================] - 0s 23us/step - loss: 0.5959 - acc: 0.7372\n",
      "Epoch 35/100\n",
      "3897/3897 [==============================] - 0s 21us/step - loss: 0.5937 - acc: 0.7385\n",
      "Epoch 36/100\n",
      "3897/3897 [==============================] - 0s 28us/step - loss: 0.5923 - acc: 0.7416\n",
      "Epoch 37/100\n",
      "3897/3897 [==============================] - 0s 38us/step - loss: 0.5912 - acc: 0.7388\n",
      "Epoch 38/100\n",
      "3897/3897 [==============================] - 0s 23us/step - loss: 0.5899 - acc: 0.7398\n",
      "Epoch 39/100\n",
      "3897/3897 [==============================] - 0s 20us/step - loss: 0.5882 - acc: 0.7411\n",
      "Epoch 40/100\n",
      "3897/3897 [==============================] - 0s 42us/step - loss: 0.5863 - acc: 0.7380\n",
      "Epoch 41/100\n",
      "3897/3897 [==============================] - 0s 28us/step - loss: 0.5855 - acc: 0.7408\n",
      "Epoch 42/100\n",
      "3897/3897 [==============================] - 0s 18us/step - loss: 0.5843 - acc: 0.7416\n",
      "Epoch 43/100\n",
      "3897/3897 [==============================] - 0s 26us/step - loss: 0.5826 - acc: 0.7388\n",
      "Epoch 44/100\n",
      "3897/3897 [==============================] - 0s 46us/step - loss: 0.5818 - acc: 0.7421\n",
      "Epoch 45/100\n",
      "3897/3897 [==============================] - 0s 18us/step - loss: 0.5799 - acc: 0.7385\n",
      "Epoch 46/100\n",
      "3897/3897 [==============================] - 0s 22us/step - loss: 0.5798 - acc: 0.7429\n",
      "Epoch 47/100\n",
      "3897/3897 [==============================] - 0s 28us/step - loss: 0.5771 - acc: 0.7462\n",
      "Epoch 48/100\n",
      "3897/3897 [==============================] - 0s 39us/step - loss: 0.5768 - acc: 0.7434\n",
      "Epoch 49/100\n",
      "3897/3897 [==============================] - 0s 21us/step - loss: 0.5759 - acc: 0.7457\n",
      "Epoch 50/100\n",
      "3897/3897 [==============================] - 0s 23us/step - loss: 0.5750 - acc: 0.7395\n",
      "Epoch 51/100\n",
      "3897/3897 [==============================] - 0s 17us/step - loss: 0.5730 - acc: 0.7434\n",
      "Epoch 52/100\n",
      "3897/3897 [==============================] - 0s 37us/step - loss: 0.5719 - acc: 0.7416\n",
      "Epoch 53/100\n",
      "3897/3897 [==============================] - 0s 31us/step - loss: 0.5700 - acc: 0.7421\n",
      "Epoch 54/100\n",
      "3897/3897 [==============================] - 0s 17us/step - loss: 0.5703 - acc: 0.7424\n",
      "Epoch 55/100\n",
      "3897/3897 [==============================] - 0s 18us/step - loss: 0.5689 - acc: 0.7431\n",
      "Epoch 56/100\n",
      "3897/3897 [==============================] - 0s 20us/step - loss: 0.5663 - acc: 0.7442\n",
      "Epoch 57/100\n",
      "3897/3897 [==============================] - 0s 22us/step - loss: 0.5668 - acc: 0.7449\n",
      "Epoch 58/100\n",
      "3897/3897 [==============================] - 0s 51us/step - loss: 0.5665 - acc: 0.7416\n",
      "Epoch 59/100\n",
      "3897/3897 [==============================] - 0s 18us/step - loss: 0.5634 - acc: 0.7454\n",
      "Epoch 60/100\n",
      "3897/3897 [==============================] - 0s 15us/step - loss: 0.5636 - acc: 0.7465\n",
      "Epoch 61/100\n",
      "3897/3897 [==============================] - 0s 15us/step - loss: 0.5616 - acc: 0.7444\n",
      "Epoch 62/100\n",
      "3897/3897 [==============================] - 0s 15us/step - loss: 0.5614 - acc: 0.7449\n",
      "Epoch 63/100\n",
      "3897/3897 [==============================] - 0s 24us/step - loss: 0.5577 - acc: 0.7470\n",
      "Epoch 64/100\n",
      "3897/3897 [==============================] - 0s 40us/step - loss: 0.5568 - acc: 0.7467\n",
      "Epoch 65/100\n",
      "3897/3897 [==============================] - 0s 16us/step - loss: 0.5558 - acc: 0.7493\n",
      "Epoch 66/100\n",
      "3897/3897 [==============================] - 0s 18us/step - loss: 0.5548 - acc: 0.7470\n",
      "Epoch 67/100\n",
      "3897/3897 [==============================] - 0s 15us/step - loss: 0.5537 - acc: 0.7483\n",
      "Epoch 68/100\n",
      "3897/3897 [==============================] - 0s 15us/step - loss: 0.5527 - acc: 0.7462\n",
      "Epoch 69/100\n",
      "3897/3897 [==============================] - 0s 43us/step - loss: 0.5514 - acc: 0.7501\n",
      "Epoch 70/100\n",
      "3897/3897 [==============================] - 0s 20us/step - loss: 0.5500 - acc: 0.7511\n",
      "Epoch 71/100\n",
      "3897/3897 [==============================] - 0s 17us/step - loss: 0.5485 - acc: 0.7480\n",
      "Epoch 72/100\n",
      "3897/3897 [==============================] - 0s 15us/step - loss: 0.5474 - acc: 0.7493\n",
      "Epoch 73/100\n",
      "3897/3897 [==============================] - 0s 16us/step - loss: 0.5461 - acc: 0.7493\n",
      "Epoch 74/100\n",
      "3897/3897 [==============================] - 0s 18us/step - loss: 0.5461 - acc: 0.7506\n",
      "Epoch 75/100\n",
      "3897/3897 [==============================] - 0s 44us/step - loss: 0.5443 - acc: 0.7444\n",
      "Epoch 76/100\n",
      "3897/3897 [==============================] - 0s 16us/step - loss: 0.5425 - acc: 0.7498\n",
      "Epoch 77/100\n",
      "3897/3897 [==============================] - 0s 14us/step - loss: 0.5416 - acc: 0.7480\n",
      "Epoch 78/100\n",
      "3897/3897 [==============================] - 0s 15us/step - loss: 0.5403 - acc: 0.7483\n",
      "Epoch 79/100\n",
      "3897/3897 [==============================] - 0s 15us/step - loss: 0.5399 - acc: 0.7493\n",
      "Epoch 80/100\n",
      "3897/3897 [==============================] - 0s 16us/step - loss: 0.5375 - acc: 0.7475\n",
      "Epoch 81/100\n",
      "3897/3897 [==============================] - 0s 41us/step - loss: 0.5372 - acc: 0.7478\n",
      "Epoch 82/100\n",
      "3897/3897 [==============================] - 0s 15us/step - loss: 0.5351 - acc: 0.7480\n",
      "Epoch 83/100\n",
      "3897/3897 [==============================] - 0s 14us/step - loss: 0.5343 - acc: 0.7508\n",
      "Epoch 84/100\n",
      "3897/3897 [==============================] - 0s 17us/step - loss: 0.5325 - acc: 0.7493\n",
      "Epoch 85/100\n",
      "3897/3897 [==============================] - 0s 17us/step - loss: 0.5313 - acc: 0.7485\n",
      "Epoch 86/100\n",
      "3897/3897 [==============================] - 0s 40us/step - loss: 0.5308 - acc: 0.7478\n",
      "Epoch 87/100\n",
      "3897/3897 [==============================] - 0s 14us/step - loss: 0.5289 - acc: 0.7508\n",
      "Epoch 88/100\n",
      "3897/3897 [==============================] - 0s 14us/step - loss: 0.5280 - acc: 0.7478\n",
      "Epoch 89/100\n",
      "3897/3897 [==============================] - 0s 15us/step - loss: 0.5262 - acc: 0.7480\n",
      "Epoch 90/100\n",
      "3897/3897 [==============================] - 0s 13us/step - loss: 0.5253 - acc: 0.7493\n",
      "Epoch 91/100\n",
      "3897/3897 [==============================] - 0s 15us/step - loss: 0.5243 - acc: 0.7478\n",
      "Epoch 92/100\n",
      "3897/3897 [==============================] - 0s 14us/step - loss: 0.5232 - acc: 0.7496\n",
      "Epoch 93/100\n",
      "3897/3897 [==============================] - 0s 15us/step - loss: 0.5217 - acc: 0.7480\n",
      "Epoch 94/100\n",
      "3897/3897 [==============================] - 0s 16us/step - loss: 0.5212 - acc: 0.7508\n",
      "Epoch 95/100\n",
      "3897/3897 [==============================] - 0s 17us/step - loss: 0.5203 - acc: 0.7475\n",
      "Epoch 96/100\n",
      "3897/3897 [==============================] - 0s 16us/step - loss: 0.5182 - acc: 0.7475\n",
      "Epoch 97/100\n",
      "3897/3897 [==============================] - 0s 15us/step - loss: 0.5176 - acc: 0.7498\n",
      "Epoch 98/100\n",
      "3897/3897 [==============================] - 0s 15us/step - loss: 0.5159 - acc: 0.7496\n",
      "Epoch 99/100\n",
      "3897/3897 [==============================] - 0s 15us/step - loss: 0.5149 - acc: 0.7465\n",
      "Epoch 100/100\n",
      "3897/3897 [==============================] - 0s 15us/step - loss: 0.5132 - acc: 0.7501\n"
     ]
    },
    {
     "data": {
      "text/plain": [
       "<keras.callbacks.History at 0x243be7b2d30>"
      ]
     },
     "execution_count": 52,
     "metadata": {},
     "output_type": "execute_result"
    }
   ],
   "source": [
    "# create the network:\n",
    "# vocab_size = len(tokenizer.word_index) + 1\n",
    "vocab_size = 500\n",
    "model = Sequential()\n",
    "model.add(Dense(10, input_dim=vocab_size))\n",
    "model.add(Dense(10, activation='selu'))\n",
    "model.add(Dense(3, activation='sigmoid'))\n",
    "\n",
    "model.compile(loss='categorical_crossentropy', optimizer='Adam', metrics=['acc'])\n",
    "\n",
    "model.fit(tokenizer.texts_to_matrix(x_sets[0]), y=y_sets[0], \n",
    "          batch_size=200, \n",
    "          nb_epoch=100, \n",
    "          verbose=1, \n",
    "          class_weight = [1/.5,1/.2,1/.3])"
   ]
  },
  {
   "cell_type": "code",
   "execution_count": null,
   "metadata": {},
   "outputs": [],
   "source": []
  }
 ],
 "metadata": {
  "kernelspec": {
   "display_name": "Python 3",
   "language": "python",
   "name": "python3"
  },
  "language_info": {
   "codemirror_mode": {
    "name": "ipython",
    "version": 3
   },
   "file_extension": ".py",
   "mimetype": "text/x-python",
   "name": "python",
   "nbconvert_exporter": "python",
   "pygments_lexer": "ipython3",
   "version": "3.6.4"
  }
 },
 "nbformat": 4,
 "nbformat_minor": 2
}
